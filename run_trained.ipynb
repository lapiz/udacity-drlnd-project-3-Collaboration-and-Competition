{
 "cells": [
  {
   "cell_type": "markdown",
   "id": "becoming-florist",
   "metadata": {},
   "source": [
    "# Run with trained model"
   ]
  },
  {
   "cell_type": "code",
   "execution_count": 1,
   "id": "deluxe-russian",
   "metadata": {},
   "outputs": [
    {
     "name": "stderr",
     "output_type": "stream",
     "text": [
      "INFO:unityagents:\n",
      "'Academy' started successfully!\n",
      "Unity Academy name: Academy\n",
      "        Number of Brains: 1\n",
      "        Number of External Brains : 1\n",
      "        Lesson number : 0\n",
      "        Reset Parameters :\n",
      "\t\t\n",
      "Unity brain name: TennisBrain\n",
      "        Number of Visual Observations (per agent): 0\n",
      "        Vector Observation space type: continuous\n",
      "        Vector Observation space size (per agent): 8\n",
      "        Number of stacked Vector Observation: 3\n",
      "        Vector Action space type: continuous\n",
      "        Vector Action space size (per agent): 2\n",
      "        Vector Action descriptions: , \n"
     ]
    },
    {
     "name": "stdout",
     "output_type": "stream",
     "text": [
      "Number of agents: 2\n",
      "Size of each action: 2\n",
      "There are 2 agents. Each observes a state with length: 24\n",
      "The state for the first agent looks like: [ 0.          0.          0.          0.          0.          0.\n",
      "  0.          0.          0.          0.          0.          0.\n",
      "  0.          0.          0.          0.         -6.65278625 -1.5\n",
      " -0.          0.          6.83172083  6.         -0.          0.        ]\n"
     ]
    }
   ],
   "source": [
    "from unityagents import UnityEnvironment\n",
    "import numpy as np\n",
    "\n",
    "env = UnityEnvironment(file_name=\"Tennis_Linux_NoVis/Tennis.x86_64\")\n",
    "\n",
    "# get the default brain\n",
    "brain_name = env.brain_names[0]\n",
    "brain = env.brains[brain_name]\n",
    "\n",
    "# reset the environment\n",
    "env_info = env.reset(train_mode=True)[brain_name]\n",
    "\n",
    "# number of agents \n",
    "num_agents = len(env_info.agents)\n",
    "print('Number of agents:', num_agents)\n",
    "\n",
    "# size of each action\n",
    "action_size = brain.vector_action_space_size\n",
    "print('Size of each action:', action_size)\n",
    "\n",
    "# examine the state space \n",
    "states = env_info.vector_observations\n",
    "state_size = states.shape[1]\n",
    "print('There are {} agents. Each observes a state with length: {}'.format(states.shape[0], state_size))\n",
    "print('The state for the first agent looks like:', states[0])"
   ]
  },
  {
   "cell_type": "code",
   "execution_count": 2,
   "id": "coral-award",
   "metadata": {},
   "outputs": [],
   "source": [
    "import sys, platform, json\n",
    "import torch\n",
    "import random\n",
    "import numpy as np\n",
    "\n",
    "from scores import Scores\n",
    "from ddpg_agent import Agent\n",
    "from unityagents import UnityEnvironment"
   ]
  },
  {
   "cell_type": "code",
   "execution_count": 3,
   "id": "married-country",
   "metadata": {},
   "outputs": [],
   "source": [
    "hparams = {\n",
    "    \"output\": \"default\",\n",
    "    \"seed\": 0,\n",
    "    \"epoch\": 5000,\n",
    "    \"scores\": {\n",
    "        \"expectation\": 0.5,\n",
    "        \"window_size\": 100,\n",
    "        \"check_solved\": True\n",
    "    },\n",
    "    \"t_max\": 10000,\n",
    "    \"buffer_size\":100000,\n",
    "    \"batch_size\":256,\n",
    "    \"gamma\":0.99,\n",
    "    \"tau\":1e-3,\n",
    "    \"lr\": { \n",
    "        \"actor\":1e-4,\n",
    "        \"critic\":1e-4\n",
    "    },\n",
    "    \"weight_decay\": 0,\n",
    "\n",
    "    \"learn_per_step\": 1,\n",
    "    \"update_times\": 1,\n",
    "    \n",
    "    \"hidden_layers\": {\n",
    "        \"actor\": [ 256, 128 ],\n",
    "        \"critic\": [ 256, 128 ]\n",
    "    }\n",
    "}"
   ]
  },
  {
   "cell_type": "code",
   "execution_count": 4,
   "id": "center-replacement",
   "metadata": {},
   "outputs": [],
   "source": [
    "# size of each action\n",
    "action_size = brain.vector_action_space_size\n",
    "states = env_info.vector_observations                  # get the current state (for each agent)\n",
    "state_size = states.shape[1]\n",
    "\n",
    "agent0 = Agent(state_size, action_size, hparams)\n",
    "agent1 = Agent(state_size, action_size, hparams)\n",
    "\n",
    "agent0.load('default_agent_0')\n",
    "agent1.load('default_agent_1')\n",
    "\n",
    "agents = [ agent0, agent1 ]\n",
    "\n",
    "scores = []"
   ]
  },
  {
   "cell_type": "code",
   "execution_count": 5,
   "id": "neural-convert",
   "metadata": {},
   "outputs": [
    {
     "name": "stdout",
     "output_type": "stream",
     "text": [
      "Agent0 : 0.80\tAgent1 : 0.79"
     ]
    }
   ],
   "source": [
    "scores = np.zeros(num_agents)\n",
    "env_info = env.reset(train_mode=False)[brain_name]\n",
    "states = env_info.vector_observations \n",
    "while True:\n",
    "    actions = np.array([agents[i].act(states[i]) for i in range(num_agents)])\n",
    "\n",
    "    env_info = env.step(actions)[brain_name]        # send the action to the environment\n",
    "    next_states = env_info.vector_observations     # get the next state\n",
    "    rewards = env_info.rewards                     # get the reward\n",
    "    dones = env_info.local_done        \n",
    "\n",
    "    states = next_states\n",
    "    scores += rewards\n",
    "\n",
    "    print('\\rAgent0 : {:.2f}\\tAgent1 : {:.2f}'.format(scores[0], scores[1]), end='') \n",
    "\n",
    "    if np.any(dones):\n",
    "        break\n",
    "\n",
    "\n"
   ]
  }
 ],
 "metadata": {
  "kernelspec": {
   "display_name": "Python 3",
   "language": "python",
   "name": "python3"
  },
  "language_info": {
   "codemirror_mode": {
    "name": "ipython",
    "version": 3
   },
   "file_extension": ".py",
   "mimetype": "text/x-python",
   "name": "python",
   "nbconvert_exporter": "python",
   "pygments_lexer": "ipython3",
   "version": "3.6.13"
  }
 },
 "nbformat": 4,
 "nbformat_minor": 5
}
